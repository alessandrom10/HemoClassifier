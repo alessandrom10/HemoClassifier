{
 "cells": [
  {
   "cell_type": "markdown",
   "metadata": {
    "id": "nuwVgG3Vbbka"
   },
   "source": [
    "# Artificial Neural Networks and Deep Learning\n",
    "\n",
    "---\n",
    "\n",
    "## Homework 1: Minimal Working Example\n",
    "\n",
    "To make your first submission, follow these steps:\n",
    "1. Create a folder named `[2024-2025] AN2DL/Homework 1` in your Google Drive.\n",
    "2. Upload the `training_set.npz` file to this folder.\n",
    "3. Upload the Jupyter notebook `Homework 1 - Minimal Working Example.ipynb`.\n",
    "4. Load and process the data.\n",
    "5. Implement and train your model.\n",
    "6. Submit the generated `.zip` file to Codabench.\n"
   ]
  },
  {
   "cell_type": "markdown",
   "metadata": {
    "id": "dw_-hFm6bjY6"
   },
   "source": [
    "## 🌐 Connect Colab to Google Drive"
   ]
  },
  {
   "cell_type": "code",
   "execution_count": null,
   "metadata": {
    "colab": {
     "base_uri": "https://localhost:8080/"
    },
    "id": "LbcHSlIlZ-pr",
    "outputId": "16922d8b-d1e1-4b50-a4c6-986c3b7e170b"
   },
   "outputs": [
    {
     "name": "stdout",
     "output_type": "stream",
     "text": [
      "Collecting keras==3.4.1\n",
      "  Downloading keras-3.4.1-py3-none-any.whl.metadata (5.8 kB)\n",
      "Collecting tensorflow==2.17.0\n",
      "  Downloading tensorflow-2.17.0-cp310-cp310-manylinux_2_17_x86_64.manylinux2014_x86_64.whl.metadata (4.2 kB)\n",
      "Requirement already satisfied: absl-py in /usr/local/lib/python3.10/dist-packages (from keras==3.4.1) (1.4.0)\n",
      "Requirement already satisfied: numpy in /usr/local/lib/python3.10/dist-packages (from keras==3.4.1) (1.26.4)\n",
      "Requirement already satisfied: rich in /usr/local/lib/python3.10/dist-packages (from keras==3.4.1) (13.9.4)\n",
      "Requirement already satisfied: namex in /usr/local/lib/python3.10/dist-packages (from keras==3.4.1) (0.0.8)\n",
      "Requirement already satisfied: h5py in /usr/local/lib/python3.10/dist-packages (from keras==3.4.1) (3.12.1)\n",
      "Collecting optree (from keras==3.4.1)\n",
      "  Downloading optree-0.13.1-cp310-cp310-manylinux_2_17_x86_64.manylinux2014_x86_64.whl.metadata (47 kB)\n",
      "\u001b[2K     \u001b[90m━━━━━━━━━━━━━━━━━━━━━━━━━━━━━━━━━━━━━━━━\u001b[0m \u001b[32m47.8/47.8 kB\u001b[0m \u001b[31m1.7 MB/s\u001b[0m eta \u001b[36m0:00:00\u001b[0m\n",
      "\u001b[?25hRequirement already satisfied: ml-dtypes in /usr/local/lib/python3.10/dist-packages (from keras==3.4.1) (0.2.0)\n",
      "Requirement already satisfied: packaging in /usr/local/lib/python3.10/dist-packages (from keras==3.4.1) (24.2)\n",
      "Requirement already satisfied: astunparse>=1.6.0 in /usr/local/lib/python3.10/dist-packages (from tensorflow==2.17.0) (1.6.3)\n",
      "Requirement already satisfied: flatbuffers>=24.3.25 in /usr/local/lib/python3.10/dist-packages (from tensorflow==2.17.0) (24.3.25)\n",
      "Requirement already satisfied: gast!=0.5.0,!=0.5.1,!=0.5.2,>=0.2.1 in /usr/local/lib/python3.10/dist-packages (from tensorflow==2.17.0) (0.6.0)\n",
      "Requirement already satisfied: google-pasta>=0.1.1 in /usr/local/lib/python3.10/dist-packages (from tensorflow==2.17.0) (0.2.0)\n",
      "Requirement already satisfied: libclang>=13.0.0 in /usr/local/lib/python3.10/dist-packages (from tensorflow==2.17.0) (18.1.1)\n",
      "Collecting ml-dtypes (from keras==3.4.1)\n",
      "  Downloading ml_dtypes-0.4.1-cp310-cp310-manylinux_2_17_x86_64.manylinux2014_x86_64.whl.metadata (20 kB)\n",
      "Requirement already satisfied: opt-einsum>=2.3.2 in /usr/local/lib/python3.10/dist-packages (from tensorflow==2.17.0) (3.4.0)\n",
      "Requirement already satisfied: protobuf!=4.21.0,!=4.21.1,!=4.21.2,!=4.21.3,!=4.21.4,!=4.21.5,<5.0.0dev,>=3.20.3 in /usr/local/lib/python3.10/dist-packages (from tensorflow==2.17.0) (4.25.5)\n",
      "Requirement already satisfied: requests<3,>=2.21.0 in /usr/local/lib/python3.10/dist-packages (from tensorflow==2.17.0) (2.32.3)\n",
      "Requirement already satisfied: setuptools in /usr/local/lib/python3.10/dist-packages (from tensorflow==2.17.0) (75.1.0)\n",
      "Requirement already satisfied: six>=1.12.0 in /usr/local/lib/python3.10/dist-packages (from tensorflow==2.17.0) (1.16.0)\n",
      "Requirement already satisfied: termcolor>=1.1.0 in /usr/local/lib/python3.10/dist-packages (from tensorflow==2.17.0) (2.5.0)\n",
      "Requirement already satisfied: typing-extensions>=3.6.6 in /usr/local/lib/python3.10/dist-packages (from tensorflow==2.17.0) (4.12.2)\n",
      "Requirement already satisfied: wrapt>=1.11.0 in /usr/local/lib/python3.10/dist-packages (from tensorflow==2.17.0) (1.14.1)\n",
      "Requirement already satisfied: grpcio<2.0,>=1.24.3 in /usr/local/lib/python3.10/dist-packages (from tensorflow==2.17.0) (1.67.1)\n",
      "Collecting tensorboard<2.18,>=2.17 (from tensorflow==2.17.0)\n",
      "  Downloading tensorboard-2.17.1-py3-none-any.whl.metadata (1.6 kB)\n",
      "Requirement already satisfied: tensorflow-io-gcs-filesystem>=0.23.1 in /usr/local/lib/python3.10/dist-packages (from tensorflow==2.17.0) (0.37.1)\n",
      "Requirement already satisfied: wheel<1.0,>=0.23.0 in /usr/local/lib/python3.10/dist-packages (from astunparse>=1.6.0->tensorflow==2.17.0) (0.44.0)\n",
      "Requirement already satisfied: charset-normalizer<4,>=2 in /usr/local/lib/python3.10/dist-packages (from requests<3,>=2.21.0->tensorflow==2.17.0) (3.4.0)\n",
      "Requirement already satisfied: idna<4,>=2.5 in /usr/local/lib/python3.10/dist-packages (from requests<3,>=2.21.0->tensorflow==2.17.0) (3.10)\n",
      "Requirement already satisfied: urllib3<3,>=1.21.1 in /usr/local/lib/python3.10/dist-packages (from requests<3,>=2.21.0->tensorflow==2.17.0) (2.2.3)\n",
      "Requirement already satisfied: certifi>=2017.4.17 in /usr/local/lib/python3.10/dist-packages (from requests<3,>=2.21.0->tensorflow==2.17.0) (2024.8.30)\n",
      "Requirement already satisfied: markdown>=2.6.8 in /usr/local/lib/python3.10/dist-packages (from tensorboard<2.18,>=2.17->tensorflow==2.17.0) (3.7)\n",
      "Requirement already satisfied: tensorboard-data-server<0.8.0,>=0.7.0 in /usr/local/lib/python3.10/dist-packages (from tensorboard<2.18,>=2.17->tensorflow==2.17.0) (0.7.2)\n",
      "Requirement already satisfied: werkzeug>=1.0.1 in /usr/local/lib/python3.10/dist-packages (from tensorboard<2.18,>=2.17->tensorflow==2.17.0) (3.1.3)\n",
      "Requirement already satisfied: markdown-it-py>=2.2.0 in /usr/local/lib/python3.10/dist-packages (from rich->keras==3.4.1) (3.0.0)\n",
      "Requirement already satisfied: pygments<3.0.0,>=2.13.0 in /usr/local/lib/python3.10/dist-packages (from rich->keras==3.4.1) (2.18.0)\n",
      "Requirement already satisfied: mdurl~=0.1 in /usr/local/lib/python3.10/dist-packages (from markdown-it-py>=2.2.0->rich->keras==3.4.1) (0.1.2)\n",
      "Requirement already satisfied: MarkupSafe>=2.1.1 in /usr/local/lib/python3.10/dist-packages (from werkzeug>=1.0.1->tensorboard<2.18,>=2.17->tensorflow==2.17.0) (3.0.2)\n",
      "Downloading keras-3.4.1-py3-none-any.whl (1.1 MB)\n",
      "\u001b[2K   \u001b[90m━━━━━━━━━━━━━━━━━━━━━━━━━━━━━━━━━━━━━━━━\u001b[0m \u001b[32m1.1/1.1 MB\u001b[0m \u001b[31m17.8 MB/s\u001b[0m eta \u001b[36m0:00:00\u001b[0m\n",
      "\u001b[?25hDownloading tensorflow-2.17.0-cp310-cp310-manylinux_2_17_x86_64.manylinux2014_x86_64.whl (601.3 MB)\n",
      "\u001b[2K   \u001b[90m━━━━━━━━━━━━━━━━━━━━━━━━━━━━━━━━━━━━━━━━\u001b[0m \u001b[32m601.3/601.3 MB\u001b[0m \u001b[31m1.7 MB/s\u001b[0m eta \u001b[36m0:00:00\u001b[0m\n",
      "\u001b[?25hDownloading ml_dtypes-0.4.1-cp310-cp310-manylinux_2_17_x86_64.manylinux2014_x86_64.whl (2.2 MB)\n",
      "\u001b[2K   \u001b[90m━━━━━━━━━━━━━━━━━━━━━━━━━━━━━━━━━━━━━━━━\u001b[0m \u001b[32m2.2/2.2 MB\u001b[0m \u001b[31m60.5 MB/s\u001b[0m eta \u001b[36m0:00:00\u001b[0m\n",
      "\u001b[?25hDownloading tensorboard-2.17.1-py3-none-any.whl (5.5 MB)\n",
      "\u001b[2K   \u001b[90m━━━━━━━━━━━━━━━━━━━━━━━━━━━━━━━━━━━━━━━━\u001b[0m \u001b[32m5.5/5.5 MB\u001b[0m \u001b[31m96.0 MB/s\u001b[0m eta \u001b[36m0:00:00\u001b[0m\n",
      "\u001b[?25hDownloading optree-0.13.1-cp310-cp310-manylinux_2_17_x86_64.manylinux2014_x86_64.whl (381 kB)\n",
      "\u001b[2K   \u001b[90m━━━━━━━━━━━━━━━━━━━━━━━━━━━━━━━━━━━━━━━━\u001b[0m \u001b[32m381.3/381.3 kB\u001b[0m \u001b[31m24.8 MB/s\u001b[0m eta \u001b[36m0:00:00\u001b[0m\n",
      "\u001b[?25hInstalling collected packages: optree, ml-dtypes, tensorboard, keras, tensorflow\n",
      "  Attempting uninstall: ml-dtypes\n",
      "    Found existing installation: ml-dtypes 0.2.0\n",
      "    Uninstalling ml-dtypes-0.2.0:\n",
      "      Successfully uninstalled ml-dtypes-0.2.0\n",
      "  Attempting uninstall: tensorboard\n",
      "    Found existing installation: tensorboard 2.15.2\n",
      "    Uninstalling tensorboard-2.15.2:\n",
      "      Successfully uninstalled tensorboard-2.15.2\n",
      "  Attempting uninstall: keras\n",
      "    Found existing installation: keras 2.15.0\n",
      "    Uninstalling keras-2.15.0:\n",
      "      Successfully uninstalled keras-2.15.0\n",
      "  Attempting uninstall: tensorflow\n",
      "    Found existing installation: tensorflow 2.15.0\n",
      "    Uninstalling tensorflow-2.15.0:\n",
      "      Successfully uninstalled tensorflow-2.15.0\n"
     ]
    }
   ],
   "source": [
    "pip install keras==3.4.1 tensorflow==2.17.0 keras_cv"
   ]
  },
  {
   "cell_type": "code",
   "execution_count": null,
   "metadata": {
    "colab": {
     "base_uri": "https://localhost:8080/"
    },
    "id": "y2S4GWr3Uoa8",
    "outputId": "95baa23e-0e91-4535-9d9e-d95230b342ed"
   },
   "outputs": [
    {
     "name": "stdout",
     "output_type": "stream",
     "text": [
      "Mounted at /gdrive\n",
      "/gdrive/My Drive/[2024-2025] AN2DL/Homework 1\n"
     ]
    }
   ],
   "source": [
    "from google.colab import drive\n",
    "\n",
    "drive.mount('/gdrive')\n",
    "%cd /gdrive/My Drive/[2024-2025] AN2DL/Homework 1"
   ]
  },
  {
   "cell_type": "markdown",
   "metadata": {
    "id": "d7IqZP5Iblna"
   },
   "source": [
    "## ⚙️ Import Libraries"
   ]
  },
  {
   "cell_type": "code",
   "execution_count": null,
   "metadata": {
    "id": "CO6_Ft_8T56A"
   },
   "outputs": [],
   "source": [
    "import numpy as np\n",
    "\n",
    "import tensorflow as tf\n",
    "from tensorflow import keras as tfk\n",
    "from tensorflow.keras import layers as tfkl\n",
    "\n",
    "np.random.seed(42)\n",
    "tf.random.set_seed(42);"
   ]
  },
  {
   "cell_type": "markdown",
   "metadata": {
    "id": "GN_cpHlSboXV"
   },
   "source": [
    "## ⏳ Load the Data"
   ]
  },
  {
   "cell_type": "code",
   "execution_count": null,
   "metadata": {
    "id": "pLaoDaG1V1Yg"
   },
   "outputs": [],
   "source": [
    "import numpy as np\n",
    "import tensorflow as tf\n",
    "from sklearn.model_selection import train_test_split\n",
    "\n",
    "# Carica il dataset\n",
    "data = np.load('/gdrive/MyDrive/[2024-2025] AN2DL/Homework 1/training_set.npz')\n",
    "X_train = data['images']\n",
    "y_train = data['labels']\n",
    "\n",
    "\n",
    "# Carica il dataset\n",
    "data2 = np.load('/gdrive/MyDrive/[2024-2025] AN2DL/Homework 1/test_set.npz')\n",
    "X_test2 = data['images']\n",
    "y_test2 = data['labels']\n",
    "\n",
    "\n",
    "# Converti y in one-hot encoding\n",
    "y_train = tf.keras.utils.to_categorical(y_train, num_classes=8)\n",
    "y_test2 = tf.keras.utils.to_categorical(y_test2, num_classes=8)\n"
   ]
  },
  {
   "cell_type": "code",
   "execution_count": null,
   "metadata": {
    "id": "rJesjkncAkkR"
   },
   "outputs": [],
   "source": [
    "import hashlib\n",
    "\n",
    "def image_hash(image):\n",
    "    image_bytes = image.tobytes()\n",
    "    return hashlib.sha256(image_bytes).hexdigest()\n",
    "\n",
    "unique_images = []\n",
    "unique_labels = []\n",
    "duplicate_positions = set()\n",
    "\n",
    "seen_hashes = {}\n",
    "\n",
    "for i in range(len(X_train)):\n",
    "    img_hash = image_hash(X_train[i])\n",
    "    if img_hash not in seen_hashes:\n",
    "        if i not in duplicate_positions:\n",
    "            unique_images.append(X_train[i])\n",
    "            unique_labels.append(y_train[i])\n",
    "        seen_hashes[img_hash] = i\n",
    "    else:\n",
    "        duplicate_positions.add(seen_hashes[img_hash])\n",
    "        duplicate_positions.add(i)\n",
    "\n",
    "X_train = [X_train[i] for i in range(len(X_train)) if i not in duplicate_positions]\n",
    "y_train = [y_train[i] for i in range(len(y_train)) if i not in duplicate_positions]\n",
    "\n",
    "X_train = np.array(X_train)\n",
    "y_train = np.array(y_train)\n"
   ]
  },
  {
   "cell_type": "code",
   "execution_count": null,
   "metadata": {
    "id": "5FxPNaJEa8RC"
   },
   "outputs": [],
   "source": [
    "# split train in training and test set\n",
    "X_train, X_test, y_train, y_test = train_test_split(X_train, y_train, test_size=0.3, random_state=42)\n"
   ]
  },
  {
   "cell_type": "markdown",
   "metadata": {
    "id": "FSliIxBvbs2Q"
   },
   "source": [
    "## 🛠️ Train and Save the Model"
   ]
  },
  {
   "cell_type": "code",
   "execution_count": null,
   "metadata": {
    "colab": {
     "base_uri": "https://localhost:8080/",
     "height": 411
    },
    "id": "Xm50DYgXtHmU",
    "outputId": "f467f290-115d-4bf2-cb7b-a8c38a82d754"
   },
   "outputs": [
    {
     "data": {
      "image/png": "[encoded data removed]",
      "text/plain": [
       "<Figure size 1000x500 with 2 Axes>"
      ]
     },
     "metadata": {},
     "output_type": "display_data"
    }
   ],
   "source": [
    "import matplotlib.pyplot as plt\n",
    "import keras_cv\n",
    "\n",
    "data_augmentation= keras_cv.layers.RandomAugmentationPipeline(\n",
    "    layers=[\n",
    "        keras_cv.layers.RandomRotation(1),\n",
    "        keras_cv.layers.RandomZoom(0.5),\n",
    "        #keras_cv.layers.RandomFlip(),\n",
    "        keras_cv.layers.RandomBrightness((-0.1, 0.1)),\n",
    "        #keras_cv.layers.JitteredResize(\n",
    "        #    target_size=(96, 96),  # Use parentheses to define a tuple\n",
    "        #    scale_factor=(0.8, 1.25)\n",
    "        #),\n",
    "        #keras_cv.layers.RandomSharpness((0.0, 1.0), [0, 255]),\n",
    "        #tfkl.RandomContrast(0.4),\n",
    "        #keras_cv.layers.RandomTranslation(0.3, 0.3),\n",
    "        #tfkl.GaussianNoise(stddev=0.2),\n",
    "        keras_cv.layers.RandomCutout(\n",
    "            (0, 0.2), (0, 0.2), fill_mode=\"gaussian_noise\", fill_value=0.0\n",
    "        )\n",
    "    ],\n",
    "    augmentations_per_image=2\n",
    ")\n",
    "\n",
    "# Applica la rotazione casuale\n",
    "rotated_image = data_augmentation(X_train[6001])\n",
    "\n",
    "\n",
    "# Visualizza l'immagine originale e quella ruotata\n",
    "plt.figure(figsize=(10, 5))\n",
    "\n",
    "# Mostra l'immagine ruotata\n",
    "plt.subplot(1, 2, 1)\n",
    "plt.imshow(X_train[6001])\n",
    "plt.title(\"Immagine Ruotata\")\n",
    "plt.axis('off')\n",
    "\n",
    "\n",
    "# Mostra l'immagine ruotata\n",
    "plt.subplot(1, 2, 2)\n",
    "plt.imshow(rotated_image / 255.0)\n",
    "plt.title(\"Immagine Ruotata\")\n",
    "plt.axis('off')\n",
    "\n",
    "plt.show()"
   ]
  },
  {
   "cell_type": "code",
   "execution_count": null,
   "metadata": {
    "id": "rZiX8emjBZ3U"
   },
   "outputs": [],
   "source": [
    "import numpy as np\n",
    "import tensorflow as tf\n",
    "import keras_cv\n",
    "from tensorflow import keras as tfk\n",
    "from tensorflow.keras import layers, models, applications\n",
    "from tensorflow.keras.callbacks import LambdaCallback\n",
    "import random\n",
    "import keras\n",
    "from keras.saving import register_keras_serializable\n",
    "\n",
    "'''\n",
    "@keras.saving.register_keras_serializable()\n",
    "class RandomAugmentationLayer(tf.keras.layers.Layer):\n",
    "    def __init__(self, **kwargs):\n",
    "        super(RandomAugmentationLayer, self).__init__(**kwargs)\n",
    "        self.layers = [\n",
    "          keras_cv.layers.RandomRotation(1),\n",
    "          keras_cv.layers.RandomZoom(0.5),\n",
    "          keras_cv.layers.RandomFlip(),\n",
    "          keras_cv.layers.RandomBrightness(0.15),\n",
    "          keras_cv.layers.RandomSharpness((0.0, 1.0), [0, 255]),\n",
    "          #tfkl.RandomContrast(0.4),\n",
    "          keras_cv.layers.RandomTranslation(0.3, 0.3),\n",
    "          #tfkl.GaussianNoise(stddev=0.2),\n",
    "          keras_cv.layers.RandomCutout(\n",
    "              (0, 0.4), (0, 0.4), fill_mode=\"gaussian_noise\", fill_value=0.0\n",
    "          )\n",
    "        ]\n",
    "\n",
    "    def call(self, inputs, training=True):\n",
    "        if training:\n",
    "            n = random.randint(2, len(self.layers))\n",
    "\n",
    "            # choose n randomic layers\n",
    "            layers_to_apply = random.sample(self.layers, n)\n",
    "\n",
    "            for layer in layers_to_apply:\n",
    "                inputs = layer(inputs)\n",
    "\n",
    "        return inputs'''\n",
    "\n",
    "class MyModel:\n",
    "    def __init__(self):\n",
    "        \"\"\"\n",
    "        Inizializza lo stato interno del modello EfficientNetB0 preaddestrato.\n",
    "        \"\"\"\n",
    "        self.neural_network = self.create_model()\n",
    "\n",
    "    def create_model(self):\n",
    "        \"\"\"\n",
    "        Crea e restituisce un modello più semplice con MobileNetV2.\n",
    "        \"\"\"\n",
    "\n",
    "        # Definisci i layer di data augmentation\n",
    "        data_augmentation = keras_cv.layers.RandomAugmentationPipeline(\n",
    "            layers=[\n",
    "                keras_cv.layers.RandomRotation(1),\n",
    "                keras_cv.layers.RandomZoom(-0.5, 0.5),\n",
    "                keras_cv.layers.RandomFlip(),\n",
    "                keras_cv.layers.RandomBrightness(0.15),\n",
    "                keras_cv.layers.RandomSharpness((0.0, 1.0), [0, 255]),\n",
    "                #tfkl.RandomContrast(0.4),\n",
    "                keras_cv.layers.RandomTranslation(0.3, 0.3),\n",
    "                #tfkl.GaussianNoise(stddev=0.2),\n",
    "                keras_cv.layers.RandomCutout(\n",
    "                    (0, 0.4), (0, 0.4), fill_mode=\"gaussian_noise\", fill_value=0.0\n",
    "                )\n",
    "            ],\n",
    "            augmentations_per_image=4\n",
    "        )\n",
    "\n",
    "        # Utilizza una rete più semplice\n",
    "        model_pretrained = tfk.applications.EfficientNetB0(\n",
    "            input_shape=(96, 96, 3),\n",
    "            include_top=False,\n",
    "            weights='imagenet',\n",
    "            pooling='avg'  # Pooling globale per ridurre la dimensionalità\n",
    "        )\n",
    "\n",
    "        # Costruisci il modello semplificato\n",
    "        inputs = tfk.Input(shape=(96, 96, 3), name='input_layer')\n",
    "        x = data_augmentation(inputs)\n",
    "        x = model_pretrained(x)\n",
    "        x = tfkl.Dense(128, activation='relu')(x)\n",
    "        x = tfkl.Dropout(0.25)(x)\n",
    "        outputs = tfkl.Dense(8, activation='softmax', name='output_layer')(x)\n",
    "\n",
    "        model = tfk.Model(inputs=inputs, outputs=outputs, name='model')\n",
    "\n",
    "\n",
    "        # Set all MobileNetV3Small layers as non-trainable\n",
    "        for layer in model.get_layer('efficientnetb0').layers:\n",
    "            layer.trainable = False\n",
    "\n",
    "        # Enable training only for Conv2D and DepthwiseConv2D layers\n",
    "        for i, layer in enumerate(model.get_layer('efficientnetb0').layers):\n",
    "            if isinstance(layer, tf.keras.layers.Conv2D) or isinstance(layer, tf.keras.layers.DepthwiseConv2D):\n",
    "                layer.trainable = True\n",
    "\n",
    "        model.compile(\n",
    "            loss=tfk.losses.CategoricalCrossentropy(),\n",
    "            optimizer=tfk.optimizers.Adam(learning_rate=0.0001),\n",
    "            metrics=['accuracy']\n",
    "        )\n",
    "\n",
    "        return model\n",
    "\n",
    "\n",
    "    def train(self, X_train, y_train, X_test, y_test, epochs=10, batch_size=32):\n",
    "        \"\"\"\n",
    "        Addestra il modello sui dati di input X_train e le etichette y_train.\n",
    "        \"\"\"\n",
    "\n",
    "        # Allena il modello\n",
    "        tl_history = self.neural_network.fit(\n",
    "            x=X_train,\n",
    "            y=y_train,\n",
    "            batch_size=batch_size,\n",
    "            epochs=epochs,\n",
    "            shuffle=True,\n",
    "            validation_data=(X_test, y_test),\n",
    "            callbacks=[tfk.callbacks.EarlyStopping(monitor='val_accuracy', mode='max', patience=10, restore_best_weights=True)]\n",
    "        ).history\n",
    "\n",
    "        # Calcola e stampa la miglior accuratezza di validazione raggiunta\n",
    "        final_val_accuracy = round(max(tl_history['val_accuracy']) * 100, 2)\n",
    "        print(f'Final validation accuracy: {final_val_accuracy}%')\n",
    "\n",
    "        # Salva il modello addestrato in un file, includendo l'accuratezza finale nel nome del file\n",
    "        model_filename = 'weights.keras'\n",
    "        self.neural_network.save(model_filename)\n",
    "\n",
    "    def test(self, X_test, y_test):\n",
    "        \"\"\"\n",
    "        Valuta il modello sui dati di test X_test e le etichette y_test.\n",
    "        \"\"\"\n",
    "        test_loss, test_acc = self.neural_network.evaluate(X_test, y_test)\n",
    "        print(f'Test accuracy: {test_acc}')\n",
    "\n",
    "    def save(self):\n",
    "        \"\"\"\n",
    "        Salva il modello in un file con il nome specificato senza il layer di data augmentation.\n",
    "        \"\"\"\n",
    "\n",
    "        # remove the data augmentation layer\n",
    "\n",
    "        self.neural_network.save('/gdrive/MyDrive/[2024-2025] AN2DL/Homework 1/weights.keras')\n",
    "\n",
    "\n",
    "    def predict(self, X):\n",
    "        \"\"\"\n",
    "        Predice le etichette corrispondenti all'input X.\n",
    "        X è un array NumPy di forma (n_samples, 96, 96, 3).\n",
    "        L'output è un array NumPy di forma (n_samples,).\n",
    "        \"\"\"\n",
    "        preds = self.neural_network.predict(X)\n",
    "        preds = np.argmax(preds, axis=1)\n",
    "        return preds\n"
   ]
  },
  {
   "cell_type": "code",
   "execution_count": null,
   "metadata": {
    "colab": {
     "base_uri": "https://localhost:8080/"
    },
    "id": "ox9jqYyyUJo0",
    "outputId": "f35d255f-983c-47f4-fe0f-823114c6c337"
   },
   "outputs": [
    {
     "name": "stdout",
     "output_type": "stream",
     "text": [
      "Downloading data from https://storage.googleapis.com/keras-applications/efficientnetb0_notop.h5\n",
      "16705208/16705208 [==============================] - 0s 0us/step\n"
     ]
    }
   ],
   "source": [
    "model = MyModel()"
   ]
  },
  {
   "cell_type": "code",
   "execution_count": null,
   "metadata": {
    "colab": {
     "base_uri": "https://localhost:8080/"
    },
    "id": "RLxAJyoVw1oo",
    "outputId": "269769b0-f6e4-47cb-9c4b-a2f7d71d96d1"
   },
   "outputs": [
    {
     "name": "stdout",
     "output_type": "stream",
     "text": [
      "Epoch 1/500\n",
      "17/17 [==============================] - 104s 5s/step - loss: 1.6432 - accuracy: 0.3908 - val_loss: 0.9732 - val_accuracy: 0.6673\n",
      "Epoch 2/500\n",
      "17/17 [==============================] - 78s 5s/step - loss: 0.7977 - accuracy: 0.7189 - val_loss: 0.4617 - val_accuracy: 0.8378\n",
      "Epoch 3/500\n",
      "17/17 [==============================] - 79s 5s/step - loss: 0.4593 - accuracy: 0.8428 - val_loss: 0.3077 - val_accuracy: 0.8948\n",
      "Epoch 4/500\n",
      "17/17 [==============================] - 79s 5s/step - loss: 0.3565 - accuracy: 0.8793 - val_loss: 0.2621 - val_accuracy: 0.9099\n",
      "Epoch 5/500\n",
      "17/17 [==============================] - 79s 5s/step - loss: 0.2831 - accuracy: 0.9037 - val_loss: 0.2162 - val_accuracy: 0.9244\n",
      "Epoch 6/500\n",
      "17/17 [==============================] - 79s 5s/step - loss: 0.2473 - accuracy: 0.9160 - val_loss: 0.1912 - val_accuracy: 0.9352\n",
      "Epoch 7/500\n",
      "17/17 [==============================] - 79s 5s/step - loss: 0.2322 - accuracy: 0.9199 - val_loss: 0.1878 - val_accuracy: 0.9358\n",
      "Epoch 8/500\n",
      "17/17 [==============================] - 78s 5s/step - loss: 0.2076 - accuracy: 0.9298 - val_loss: 0.1627 - val_accuracy: 0.9364\n",
      "Epoch 9/500\n",
      "17/17 [==============================] - 77s 5s/step - loss: 0.1912 - accuracy: 0.9370 - val_loss: 0.1463 - val_accuracy: 0.9467\n",
      "Epoch 10/500\n",
      "17/17 [==============================] - 78s 5s/step - loss: 0.1746 - accuracy: 0.9411 - val_loss: 0.1582 - val_accuracy: 0.9470\n",
      "Epoch 11/500\n",
      "17/17 [==============================] - 77s 5s/step - loss: 0.1685 - accuracy: 0.9404 - val_loss: 0.1340 - val_accuracy: 0.9523\n",
      "Epoch 12/500\n",
      "17/17 [==============================] - 78s 5s/step - loss: 0.1568 - accuracy: 0.9471 - val_loss: 0.1393 - val_accuracy: 0.9562\n",
      "Epoch 13/500\n",
      "17/17 [==============================] - 76s 5s/step - loss: 0.1434 - accuracy: 0.9510 - val_loss: 0.1251 - val_accuracy: 0.9548\n",
      "Epoch 14/500\n",
      "17/17 [==============================] - 77s 5s/step - loss: 0.1374 - accuracy: 0.9550 - val_loss: 0.1188 - val_accuracy: 0.9584\n",
      "Epoch 15/500\n",
      "17/17 [==============================] - 78s 5s/step - loss: 0.1389 - accuracy: 0.9502 - val_loss: 0.1256 - val_accuracy: 0.9537\n",
      "Epoch 16/500\n",
      "17/17 [==============================] - 77s 5s/step - loss: 0.1320 - accuracy: 0.9563 - val_loss: 0.1088 - val_accuracy: 0.9598\n",
      "Epoch 17/500\n",
      "17/17 [==============================] - 78s 5s/step - loss: 0.1213 - accuracy: 0.9577 - val_loss: 0.1064 - val_accuracy: 0.9643\n",
      "Epoch 18/500\n",
      "17/17 [==============================] - 76s 5s/step - loss: 0.1275 - accuracy: 0.9555 - val_loss: 0.1037 - val_accuracy: 0.9634\n",
      "Epoch 19/500\n",
      "17/17 [==============================] - 76s 5s/step - loss: 0.1241 - accuracy: 0.9574 - val_loss: 0.1063 - val_accuracy: 0.9620\n",
      "Epoch 20/500\n",
      "17/17 [==============================] - 76s 5s/step - loss: 0.1136 - accuracy: 0.9609 - val_loss: 0.0966 - val_accuracy: 0.9671\n",
      "Epoch 21/500\n",
      "17/17 [==============================] - 77s 5s/step - loss: 0.1090 - accuracy: 0.9641 - val_loss: 0.0983 - val_accuracy: 0.9671\n",
      "Epoch 22/500\n",
      "17/17 [==============================] - 77s 5s/step - loss: 0.1055 - accuracy: 0.9624 - val_loss: 0.1044 - val_accuracy: 0.9632\n",
      "Epoch 23/500\n",
      "17/17 [==============================] - 77s 5s/step - loss: 0.1051 - accuracy: 0.9636 - val_loss: 0.0921 - val_accuracy: 0.9668\n",
      "Epoch 24/500\n",
      "17/17 [==============================] - 76s 5s/step - loss: 0.1041 - accuracy: 0.9628 - val_loss: 0.0914 - val_accuracy: 0.9637\n",
      "Epoch 25/500\n",
      "17/17 [==============================] - 77s 5s/step - loss: 0.0949 - accuracy: 0.9679 - val_loss: 0.1006 - val_accuracy: 0.9662\n",
      "Epoch 26/500\n",
      "17/17 [==============================] - 77s 5s/step - loss: 0.0994 - accuracy: 0.9663 - val_loss: 0.0936 - val_accuracy: 0.9715\n",
      "Epoch 27/500\n",
      "17/17 [==============================] - 77s 5s/step - loss: 0.0989 - accuracy: 0.9661 - val_loss: 0.1075 - val_accuracy: 0.9646\n",
      "Epoch 28/500\n",
      "17/17 [==============================] - 77s 5s/step - loss: 0.1001 - accuracy: 0.9658 - val_loss: 0.0872 - val_accuracy: 0.9715\n",
      "Epoch 29/500\n",
      "17/17 [==============================] - 77s 5s/step - loss: 0.0869 - accuracy: 0.9709 - val_loss: 0.1005 - val_accuracy: 0.9707\n",
      "Epoch 30/500\n",
      "17/17 [==============================] - 78s 5s/step - loss: 0.0817 - accuracy: 0.9720 - val_loss: 0.0815 - val_accuracy: 0.9715\n",
      "Epoch 31/500\n",
      "17/17 [==============================] - 78s 5s/step - loss: 0.0792 - accuracy: 0.9701 - val_loss: 0.0948 - val_accuracy: 0.9679\n",
      "Epoch 32/500\n",
      "17/17 [==============================] - 79s 5s/step - loss: 0.0866 - accuracy: 0.9713 - val_loss: 0.0751 - val_accuracy: 0.9743\n",
      "Epoch 33/500\n",
      "17/17 [==============================] - 79s 5s/step - loss: 0.0845 - accuracy: 0.9720 - val_loss: 0.0949 - val_accuracy: 0.9646\n",
      "Epoch 34/500\n",
      "17/17 [==============================] - 78s 5s/step - loss: 0.0828 - accuracy: 0.9712 - val_loss: 0.0779 - val_accuracy: 0.9724\n",
      "Epoch 35/500\n",
      "17/17 [==============================] - 78s 5s/step - loss: 0.0825 - accuracy: 0.9714 - val_loss: 0.0991 - val_accuracy: 0.9643\n",
      "Epoch 36/500\n",
      "17/17 [==============================] - 78s 5s/step - loss: 0.0876 - accuracy: 0.9709 - val_loss: 0.0780 - val_accuracy: 0.9749\n",
      "Epoch 37/500\n",
      "17/17 [==============================] - 78s 5s/step - loss: 0.0790 - accuracy: 0.9721 - val_loss: 0.0772 - val_accuracy: 0.9729\n",
      "Epoch 38/500\n",
      "17/17 [==============================] - 78s 5s/step - loss: 0.0788 - accuracy: 0.9709 - val_loss: 0.0771 - val_accuracy: 0.9760\n",
      "Epoch 39/500\n",
      "17/17 [==============================] - 78s 5s/step - loss: 0.0710 - accuracy: 0.9727 - val_loss: 0.0771 - val_accuracy: 0.9735\n",
      "Epoch 40/500\n",
      "17/17 [==============================] - 77s 5s/step - loss: 0.0721 - accuracy: 0.9757 - val_loss: 0.0740 - val_accuracy: 0.9749\n",
      "Epoch 41/500\n",
      "17/17 [==============================] - 76s 5s/step - loss: 0.0663 - accuracy: 0.9782 - val_loss: 0.0817 - val_accuracy: 0.9710\n",
      "Epoch 42/500\n",
      "17/17 [==============================] - 77s 5s/step - loss: 0.0711 - accuracy: 0.9744 - val_loss: 0.0811 - val_accuracy: 0.9699\n",
      "Epoch 43/500\n",
      "17/17 [==============================] - 77s 5s/step - loss: 0.0703 - accuracy: 0.9770 - val_loss: 0.0780 - val_accuracy: 0.9754\n",
      "Epoch 44/500\n",
      "17/17 [==============================] - 78s 5s/step - loss: 0.0633 - accuracy: 0.9773 - val_loss: 0.0823 - val_accuracy: 0.9729\n",
      "Epoch 45/500\n",
      "17/17 [==============================] - 77s 5s/step - loss: 0.0620 - accuracy: 0.9787 - val_loss: 0.0753 - val_accuracy: 0.9763\n",
      "Epoch 46/500\n",
      "17/17 [==============================] - 76s 4s/step - loss: 0.0648 - accuracy: 0.9769 - val_loss: 0.0709 - val_accuracy: 0.9777\n",
      "Epoch 47/500\n",
      "17/17 [==============================] - 77s 5s/step - loss: 0.0680 - accuracy: 0.9758 - val_loss: 0.0939 - val_accuracy: 0.9665\n",
      "Epoch 48/500\n",
      "17/17 [==============================] - 77s 5s/step - loss: 0.0685 - accuracy: 0.9768 - val_loss: 0.0765 - val_accuracy: 0.9729\n",
      "Epoch 49/500\n",
      "17/17 [==============================] - 77s 5s/step - loss: 0.0636 - accuracy: 0.9785 - val_loss: 0.0647 - val_accuracy: 0.9782\n",
      "Epoch 50/500\n",
      "17/17 [==============================] - 77s 5s/step - loss: 0.0640 - accuracy: 0.9775 - val_loss: 0.0771 - val_accuracy: 0.9763\n",
      "Epoch 51/500\n",
      "17/17 [==============================] - 77s 5s/step - loss: 0.0570 - accuracy: 0.9798 - val_loss: 0.0801 - val_accuracy: 0.9732\n",
      "Epoch 52/500\n",
      "17/17 [==============================] - 76s 5s/step - loss: 0.0639 - accuracy: 0.9770 - val_loss: 0.0635 - val_accuracy: 0.9766\n",
      "Epoch 53/500\n",
      "17/17 [==============================] - 77s 5s/step - loss: 0.0658 - accuracy: 0.9785 - val_loss: 0.0721 - val_accuracy: 0.9752\n",
      "Epoch 54/500\n",
      "17/17 [==============================] - 79s 5s/step - loss: 0.0679 - accuracy: 0.9785 - val_loss: 0.0809 - val_accuracy: 0.9729\n",
      "Epoch 55/500\n",
      "17/17 [==============================] - 78s 5s/step - loss: 0.0590 - accuracy: 0.9801 - val_loss: 0.0707 - val_accuracy: 0.9771\n",
      "Epoch 56/500\n",
      "17/17 [==============================] - 77s 5s/step - loss: 0.0654 - accuracy: 0.9773 - val_loss: 0.0751 - val_accuracy: 0.9749\n",
      "Epoch 57/500\n",
      "17/17 [==============================] - 78s 5s/step - loss: 0.0573 - accuracy: 0.9815 - val_loss: 0.0696 - val_accuracy: 0.9768\n",
      "Epoch 58/500\n",
      "17/17 [==============================] - 77s 5s/step - loss: 0.0559 - accuracy: 0.9811 - val_loss: 0.0613 - val_accuracy: 0.9819\n",
      "Epoch 59/500\n",
      "17/17 [==============================] - 77s 5s/step - loss: 0.0576 - accuracy: 0.9804 - val_loss: 0.0776 - val_accuracy: 0.9768\n",
      "Epoch 60/500\n",
      "17/17 [==============================] - 76s 4s/step - loss: 0.0574 - accuracy: 0.9801 - val_loss: 0.0770 - val_accuracy: 0.9774\n",
      "Epoch 61/500\n",
      "17/17 [==============================] - 75s 4s/step - loss: 0.0522 - accuracy: 0.9819 - val_loss: 0.0763 - val_accuracy: 0.9729\n",
      "Epoch 62/500\n",
      "17/17 [==============================] - 75s 4s/step - loss: 0.0569 - accuracy: 0.9821 - val_loss: 0.0715 - val_accuracy: 0.9771\n",
      "Epoch 63/500\n",
      "17/17 [==============================] - 76s 4s/step - loss: 0.0509 - accuracy: 0.9813 - val_loss: 0.0677 - val_accuracy: 0.9763\n",
      "Epoch 64/500\n",
      "17/17 [==============================] - 77s 5s/step - loss: 0.0598 - accuracy: 0.9798 - val_loss: 0.0698 - val_accuracy: 0.9746\n",
      "Epoch 65/500\n",
      "17/17 [==============================] - 76s 5s/step - loss: 0.0553 - accuracy: 0.9805 - val_loss: 0.0738 - val_accuracy: 0.9749\n",
      "Epoch 66/500\n",
      "17/17 [==============================] - 76s 4s/step - loss: 0.0503 - accuracy: 0.9831 - val_loss: 0.0690 - val_accuracy: 0.9768\n",
      "Epoch 67/500\n",
      "17/17 [==============================] - 77s 5s/step - loss: 0.0483 - accuracy: 0.9837 - val_loss: 0.0628 - val_accuracy: 0.9791\n",
      "Epoch 68/500\n",
      "17/17 [==============================] - 76s 5s/step - loss: 0.0520 - accuracy: 0.9825 - val_loss: 0.0700 - val_accuracy: 0.9796\n",
      "Final validation accuracy: 98.19%\n"
     ]
    }
   ],
   "source": [
    "model.train(X_train, y_train, X_test, y_test, epochs=500, batch_size=512)"
   ]
  },
  {
   "cell_type": "code",
   "execution_count": null,
   "metadata": {
    "colab": {
     "base_uri": "https://localhost:8080/"
    },
    "id": "BPTK4moBCGrc",
    "outputId": "5270f32f-9d7d-48a3-ec9e-8bde5c453481"
   },
   "outputs": [
    {
     "name": "stdout",
     "output_type": "stream",
     "text": [
      "430/430 [==============================] - 39s 91ms/step - loss: 0.7501 - accuracy: 0.8699\n",
      "Test accuracy: 0.8699033260345459\n"
     ]
    }
   ],
   "source": [
    "model.test(X_test2, y_test2)"
   ]
  },
  {
   "cell_type": "code",
   "execution_count": null,
   "metadata": {
    "colab": {
     "base_uri": "https://localhost:8080/"
    },
    "id": "Syb4AHsnicdk",
    "outputId": "1a75d396-3f05-434f-8518-843193dc77ea"
   },
   "outputs": [
    {
     "name": "stdout",
     "output_type": "stream",
     "text": [
      "False\n",
      "\u001b[1m111/112\u001b[0m \u001b[32m━━━━━━━━━━━━━━━━━━━\u001b[0m\u001b[37m━\u001b[0m \u001b[1m0s\u001b[0m 11ms/stepFalse\n",
      "\u001b[1m112/112\u001b[0m \u001b[32m━━━━━━━━━━━━━━━━━━━━\u001b[0m\u001b[37m\u001b[0m \u001b[1m19s\u001b[0m 96ms/step\n"
     ]
    }
   ],
   "source": [
    "preds = model.predict(X_test)"
   ]
  },
  {
   "cell_type": "code",
   "execution_count": null,
   "metadata": {
    "colab": {
     "base_uri": "https://localhost:8080/"
    },
    "id": "_ystjv8Wun5B",
    "outputId": "8327ba2f-0624-4793-faa2-655d731ab106"
   },
   "outputs": [
    {
     "name": "stdout",
     "output_type": "stream",
     "text": [
      "Corrette: 3477\n",
      "Totali: 4128\n",
      "Accuratezza: 0.842296511627907\n"
     ]
    }
   ],
   "source": [
    "model.save()"
   ]
  }
 ],
 "metadata": {
  "accelerator": "TPU",
  "colab": {
   "gpuType": "V28",
   "provenance": []
  },
  "kernelspec": {
   "display_name": "Python 3",
   "name": "python3"
  },
  "language_info": {
   "name": "python"
  }
 },
 "nbformat": 4,
 "nbformat_minor": 0
}
